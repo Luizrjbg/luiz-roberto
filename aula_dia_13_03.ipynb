{
  "nbformat": 4,
  "nbformat_minor": 0,
  "metadata": {
    "colab": {
      "provenance": [],
      "authorship_tag": "ABX9TyMsVWnQERjHMlkIKRUQE+sp",
      "include_colab_link": true
    },
    "kernelspec": {
      "name": "python3",
      "display_name": "Python 3"
    },
    "language_info": {
      "name": "python"
    }
  },
  "cells": [
    {
      "cell_type": "markdown",
      "metadata": {
        "id": "view-in-github",
        "colab_type": "text"
      },
      "source": [
        "<a href=\"https://colab.research.google.com/github/Luizrjbg/luiz-roberto/blob/main/aula_dia_13_03.ipynb\" target=\"_parent\"><img src=\"https://colab.research.google.com/assets/colab-badge.svg\" alt=\"Open In Colab\"/></a>"
      ]
    },
    {
      "cell_type": "code",
      "source": [
        "for i in range (0,5,2 ):\n",
        "  planta = str (i)\n",
        "  print(f\"por favor robo regue a planta numero:\" + planta)"
      ],
      "metadata": {
        "colab": {
          "base_uri": "https://localhost:8080/"
        },
        "id": "V4bpxrT4TMs2",
        "outputId": "123eae1e-6d28-4d6c-e5d0-f736f891a4ab"
      },
      "execution_count": 30,
      "outputs": [
        {
          "output_type": "stream",
          "name": "stdout",
          "text": [
            "por favor robo regue a planta numero:0\n",
            "por favor robo regue a planta numero:2\n",
            "por favor robo regue a planta numero:4\n"
          ]
        }
      ]
    },
    {
      "cell_type": "code",
      "source": [
        "planta= 0\n",
        "\n",
        "while (planta <=5):\n",
        "  print (\"robo regue a planta numero\", planta)\n",
        "  planta+=2"
      ],
      "metadata": {
        "colab": {
          "base_uri": "https://localhost:8080/"
        },
        "id": "4WsJxKzOWGKe",
        "outputId": "5a70e351-f8af-43c7-ba34-863a4248668d"
      },
      "execution_count": 27,
      "outputs": [
        {
          "output_type": "stream",
          "name": "stdout",
          "text": [
            "robo regue a planta numero 0\n",
            "robo regue a planta numero 2\n",
            "robo regue a planta numero 4\n"
          ]
        }
      ]
    }
  ]
}