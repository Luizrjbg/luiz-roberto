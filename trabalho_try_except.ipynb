{
  "nbformat": 4,
  "nbformat_minor": 0,
  "metadata": {
    "colab": {
      "provenance": [],
      "authorship_tag": "ABX9TyPWMWBmAoy4iU8shd3KuY+Z",
      "include_colab_link": true
    },
    "kernelspec": {
      "name": "python3",
      "display_name": "Python 3"
    },
    "language_info": {
      "name": "python"
    }
  },
  "cells": [
    {
      "cell_type": "markdown",
      "metadata": {
        "id": "view-in-github",
        "colab_type": "text"
      },
      "source": [
        "<a href=\"https://colab.research.google.com/github/Luizrjbg/luiz-roberto/blob/main/trabalho_try_except.ipynb\" target=\"_parent\"><img src=\"https://colab.research.google.com/assets/colab-badge.svg\" alt=\"Open In Colab\"/></a>"
      ]
    },
    {
      "cell_type": "code",
      "execution_count": 4,
      "metadata": {
        "colab": {
          "base_uri": "https://localhost:8080/"
        },
        "id": "bRczlB6JtkOs",
        "outputId": "6fe0be81-d2b8-478a-f801-474df7202852"
      },
      "outputs": [
        {
          "output_type": "stream",
          "name": "stdout",
          "text": [
            "Digite seu nome completo: luiz\n",
            "Digite seu ano de nascimento (entre 1922 e 2021): 1989\n",
            "Nome completo: luiz\n",
            "Idade: 34\n"
          ]
        }
      ],
      "source": [
        "import datetime\n",
        "\n",
        "while True:\n",
        "    nome_completo = input(\"Digite seu nome completo: \")\n",
        "    ano_nascimento = input(\"Digite seu ano de nascimento (entre 1922 e 2021): \")\n",
        "\n",
        "    try:\n",
        "        ano_nascimento = int(ano_nascimento)\n",
        "    except ValueError:\n",
        "        print(\"Ano de nascimento inválido. Digite apenas números.\")\n",
        "        continue\n",
        "\n",
        "    if ano_nascimento < 1922 or ano_nascimento > 2021:\n",
        "        print(\"Ano de nascimento fora do intervalo permitido.\")\n",
        "        continue\n",
        "\n",
        "    idade = datetime.date.today().year - ano_nascimento\n",
        "\n",
        "    print(\"Nome completo:\", nome_completo)\n",
        "    print(\"Idade:\", idade)\n",
        "\n",
        "    break\n"
      ]
    }
  ]
}