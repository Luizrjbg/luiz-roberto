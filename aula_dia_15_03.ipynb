{
  "nbformat": 4,
  "nbformat_minor": 0,
  "metadata": {
    "colab": {
      "provenance": [],
      "authorship_tag": "ABX9TyOwFBQBxABSfDHLSC1pBiYp",
      "include_colab_link": true
    },
    "kernelspec": {
      "name": "python3",
      "display_name": "Python 3"
    },
    "language_info": {
      "name": "python"
    }
  },
  "cells": [
    {
      "cell_type": "markdown",
      "metadata": {
        "id": "view-in-github",
        "colab_type": "text"
      },
      "source": [
        "<a href=\"https://colab.research.google.com/github/Luizrjbg/luiz-roberto/blob/main/aula_dia_15_03.ipynb\" target=\"_parent\"><img src=\"https://colab.research.google.com/assets/colab-badge.svg\" alt=\"Open In Colab\"/></a>"
      ]
    },
    {
      "cell_type": "code",
      "execution_count": 31,
      "metadata": {
        "colab": {
          "base_uri": "https://localhost:8080/"
        },
        "id": "RDVJWTLGe0VU",
        "outputId": "feb52231-e19b-4ba6-f76e-874bfcbe9971"
      },
      "outputs": [
        {
          "output_type": "stream",
          "name": "stdout",
          "text": [
            "escreva um numero menor ou igual a 100\n",
            "1.0\n",
            "parabens seu numero: 1.0\n"
          ]
        }
      ],
      "source": [
        "def mostrarNumero():\n",
        "  print(\"escreva um numero menor ou igual a 100\")\n",
        "  numero= input()\n",
        "  numeroConvertido=()\n",
        "  if (float (numero) <= 100):\n",
        "    print(\"parabens seu numero:\", numero )\n",
        "  else: \n",
        "    print(\"seu numero está errado\")\n",
        "  \n",
        "mostrarNumero()\n"
      ]
    }
  ]
}