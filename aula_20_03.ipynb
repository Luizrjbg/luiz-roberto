{
  "nbformat": 4,
  "nbformat_minor": 0,
  "metadata": {
    "colab": {
      "provenance": [],
      "authorship_tag": "ABX9TyPVCaavRR/wVvP+lx5dVzhU",
      "include_colab_link": true
    },
    "kernelspec": {
      "name": "python3",
      "display_name": "Python 3"
    },
    "language_info": {
      "name": "python"
    }
  },
  "cells": [
    {
      "cell_type": "markdown",
      "metadata": {
        "id": "view-in-github",
        "colab_type": "text"
      },
      "source": [
        "<a href=\"https://colab.research.google.com/github/Luizrjbg/luiz-roberto/blob/main/aula_20_03.ipynb\" target=\"_parent\"><img src=\"https://colab.research.google.com/assets/colab-badge.svg\" alt=\"Open In Colab\"/></a>"
      ]
    },
    {
      "cell_type": "code",
      "execution_count": 18,
      "metadata": {
        "id": "Py53VkSuYR8K"
      },
      "outputs": [],
      "source": [
        "def percorrer_array (array,item):\n",
        "   sinalizador=False\n",
        "   for i in range(len(array,item)):\n",
        "     \n",
        "    if (array[i]==item):\n",
        "      sinalizador=True\n",
        "\n",
        "   if sinalizador==True:  \n",
        "     \n",
        "     print (\"achamos o item tal\" + item)\n",
        "   else: \n",
        "     print (\"nao achamos o item\" + item)\n",
        "\n",
        "     nomes=[\"joel\",\"lauandes\",\"alyce\",\"elizangela\"]\n",
        "     percorrer_array (nomes, \"yuri\")"
      ]
    }
  ]
}